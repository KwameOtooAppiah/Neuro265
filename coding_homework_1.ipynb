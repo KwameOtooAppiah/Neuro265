{
  "nbformat": 4,
  "nbformat_minor": 0,
  "metadata": {
    "colab": {
      "provenance": [],
      "include_colab_link": true
    },
    "kernelspec": {
      "name": "python3",
      "display_name": "Python 3"
    },
    "language_info": {
      "name": "python"
    }
  },
  "cells": [
    {
      "cell_type": "markdown",
      "metadata": {
        "id": "view-in-github",
        "colab_type": "text"
      },
      "source": [
        "<a href=\"https://colab.research.google.com/github/KwameOtooAppiah/Neuro265/blob/main/coding_homework_1.ipynb\" target=\"_parent\"><img src=\"https://colab.research.google.com/assets/colab-badge.svg\" alt=\"Open In Colab\"/></a>"
      ]
    },
    {
      "cell_type": "markdown",
      "source": [
        "# Coding Homework #1\n",
        "\n",
        "**Instructions** (Note: it is very important you follow these instructions in order!)\n",
        "\n",
        "1. Run the first *Code Cell* below.\n",
        "\n",
        "2. Make a *Markdown Cell* that contains the following information:\n",
        "  * Your name (small header)\n",
        "  * The name of this class (italicized)\n",
        "  * The date (bolded)\n",
        "\n",
        "3. **Important!**: For each *Code Cell* that you create, make at least one line of code with a `#` in front of it that describes what your code does.\n",
        "\n",
        "4. Make a *Code Cell* that turns `v_rest_sst.csv` into a `Pandas DataFrame` called `pandas_data1`, and `v_rest_pvalb.csv` into a `Pandas DataFrame` called `pandas_data2`. Recall that we covered how to import `.csv` files as `Pandas DataFrames` in our in-class coding activity on January 31st.\n",
        "\n",
        "5. Make a *Code Cell* that converts `pandas_data1` into a `list` variable called `data1`, and converts `pandas_data2` into a `list` variable called `data2`. The following syntax is an example of how to do this:\n",
        "\n",
        "\n",
        "```\n",
        "data1 = pandas_data1.values.tolist()\n",
        "```\n",
        "\n",
        "6. When you convert a `Pandas DataFrame` into a `list`, it brackets each individual element - we don't want that! To get around this issue, make a *Code Cell* that flattens `data1` and `data2` using the `numpy.squeeze()` function. Your first *Code Cell* imported the `NumPy` module as `np`, so we can use the following code to flatten `data1`:\n",
        "\n",
        "\n",
        "```\n",
        "data1 = np.squeeze(data1)\n",
        "```\n",
        "&nbsp;&nbsp;&nbsp;&nbsp;&nbsp;&nbsp;&nbsp;&nbsp;&nbsp;&nbsp;Repeat this for `data2`.\n",
        "\n",
        "7. Make a *Code Cell* that prints the length of `data1`.\n",
        "\n",
        "8. Make a *Code Cell* that prints the 3rd, 4th, 5th, and 6th elements of `data2`.\n",
        "\n",
        "9. Make a *Code Cell* that prints the second-to-last and last elements of `data1` (use negative indexing).\n",
        "\n",
        "10. Make a *Code Cell* that prints the `type` of `data2` by using the `type` function.\n",
        "\n",
        "11. The first *Code Cell* you ran imports a module called `matplotlib`. In a new *Code Cell*, use `matplotlib` to make a histogram of `data1`. You can use the syntax `plt.hist()` to do this (remember that the variable you are applying the function to goes inside of the parentheses).\n",
        "\n",
        "12. In a new *Code Cell*, re-make your histogram and use the `plt.xlabel()` and `plt.ylabel()` functions to label your axes.\n",
        "\n",
        "13. In a new *Code Cell*, follow the instructions in steps 11 and 12 to make another histogram with axis labels for `data2`.\n",
        "\n",
        "14. In a new *Markdown Cell*, write a brief description of any differences that you observe between your two histograms. Does one group of cells seem to have a higher/lower resting membrane potential than the other group of cells?\n",
        "\n",
        "15. In a new *Code Cell*, create a new variable called `data3`. Let `data3` be a list containing both `data1` and `data2`.\n",
        "\n",
        "16. Make a *Code Cell* that prints the last element of `data2`. You must index `data3` to do this.\n",
        "\n",
        "17. Save a copy of this notebook to your GitHub repo with the title \"coding_homework_1.pynb\"."
      ],
      "metadata": {
        "id": "R8xCV2iP1KZ_"
      }
    },
    {
      "cell_type": "markdown",
      "source": [
        "\n",
        "####Kwame Otoo Appiah\n",
        "*   *Neuro 265*\n",
        "*   **2/5/2024**\n",
        "\n",
        "\n",
        "\n"
      ],
      "metadata": {
        "id": "F1Oep1SESlkI"
      }
    },
    {
      "cell_type": "code",
      "source": [
        "# Import matplotlib\n",
        "\n",
        "from matplotlib import pyplot as plt\n",
        "\n",
        "import pandas as pd\n",
        "\n",
        "import numpy as np"
      ],
      "metadata": {
        "id": "48IPWJIt59-Y"
      },
      "execution_count": 1,
      "outputs": []
    },
    {
      "cell_type": "code",
      "source": [
        "#saving cv files as dataframes\n",
        "\n",
        "pandas_data1 = pd.read_csv(\"https://raw.githubusercontent.com/KwameOtooAppiah/Neuro265/main/v_rest_sst.csv\")\n",
        "pandas_data2 = pd.read_csv(\"https://raw.githubusercontent.com/KwameOtooAppiah/Neuro265/main/v_rest_pvalb.csv\")\n",
        "\n",
        "#converting the csv to a python list\n",
        "data1 = pandas_data1.values.tolist()\n",
        "data2 = pandas_data2.values.tolist()\n",
        "\n",
        "#usign np.squeeze to \"remove axes of length 1\"; ie. placing all the data into one row; ie flattenign the data\n",
        "data1 = np.squeeze(data1)\n",
        "data2 = np.squeeze (data2)"
      ],
      "metadata": {
        "id": "bxv_pQc9uJ5-"
      },
      "execution_count": null,
      "outputs": []
    },
    {
      "cell_type": "code",
      "source": [
        "# printing length of Data 1\n",
        "print(len(data1))\n",
        "\n",
        "# printing 3rt - 6th elements of the Data1 list\n",
        "print(np.squeeze(data1[2:6]))\n",
        "\n",
        "#printign the second to last and last elements of data1\n",
        "\n",
        "# print(np.squeeze(data1[-2:0]))  - tried to use negative indexing in this way (return empty array)\n",
        "print(data1[-2], data2[-1])"
      ],
      "metadata": {
        "colab": {
          "base_uri": "https://localhost:8080/"
        },
        "id": "6cvXBA9LmBaZ",
        "outputId": "df13a21c-8277-4765-f6b7-f9a5a914eb82"
      },
      "execution_count": 16,
      "outputs": [
        {
          "output_type": "stream",
          "name": "stdout",
          "text": [
            "499\n",
            "[-71.16118393 -76.35402679 -70.89105013 -64.11880341]\n",
            "[-65.59535842] [-54.08427915]\n"
          ]
        }
      ]
    },
    {
      "cell_type": "code",
      "source": [
        "#printing the type of data of data2  (also just found out that a shortcut to runnning a code block is shift,enter)\n",
        "print(type(data2))"
      ],
      "metadata": {
        "colab": {
          "base_uri": "https://localhost:8080/"
        },
        "id": "a3bGMkC1o6ey",
        "outputId": "b2587dba-ce3e-41eb-9cad-a899f634569d"
      },
      "execution_count": 24,
      "outputs": [
        {
          "output_type": "stream",
          "name": "stdout",
          "text": [
            "<class 'list'>\n"
          ]
        }
      ]
    },
    {
      "cell_type": "code",
      "source": [
        "#making histogram of data1\n",
        "plt.hist(data1)"
      ],
      "metadata": {
        "id": "yihwakl4qAh1"
      },
      "execution_count": null,
      "outputs": []
    },
    {
      "cell_type": "code",
      "source": [
        "#making histogram of data1 with labels\n",
        "plt.hist(data1)\n",
        "plt.xlabel(\"Values of Resting Membrane Potential of SSV Cells\")\n",
        "plt.ylabel(\"Frequency\")"
      ],
      "metadata": {
        "colab": {
          "base_uri": "https://localhost:8080/",
          "height": 467
        },
        "id": "EhszjgaSq_1o",
        "outputId": "ce785b46-3330-4d02-eaa4-9a642bb2bbc0"
      },
      "execution_count": 33,
      "outputs": [
        {
          "output_type": "execute_result",
          "data": {
            "text/plain": [
              "Text(0, 0.5, 'Frequency')"
            ]
          },
          "metadata": {},
          "execution_count": 33
        },
        {
          "output_type": "display_data",
          "data": {
            "text/plain": [
              "<Figure size 640x480 with 1 Axes>"
            ],
            "image/png": "[encoded data removed]"
          },
          "metadata": {}
        }
      ]
    },
    {
      "cell_type": "code",
      "source": [
        "#making histogram of data2 with labels\n",
        "plt.hist(data2)\n",
        "plt.xlabel(\"Values Resting Membrane Potential of Pvalb Cells\")\n",
        "plt.ylabel(\"Frequency\")"
      ],
      "metadata": {
        "colab": {
          "base_uri": "https://localhost:8080/",
          "height": 467
        },
        "id": "gU3in3_csF8P",
        "outputId": "87483ee9-1e9d-45f8-b14e-d52c870c891a"
      },
      "execution_count": 31,
      "outputs": [
        {
          "output_type": "execute_result",
          "data": {
            "text/plain": [
              "Text(0, 0.5, 'Frequency')"
            ]
          },
          "metadata": {},
          "execution_count": 31
        },
        {
          "output_type": "display_data",
          "data": {
            "text/plain": [
              "<Figure size 640x480 with 1 Axes>"
            ],
            "image/png": "[encoded data removed]"
          },
          "metadata": {}
        }
      ]
    },
    {
      "cell_type": "markdown",
      "source": [
        "###Observations of the Two Histograms\n",
        "\n",
        "\n",
        "1.   **Both Plots Seem Wonky:**  It seems that we haven't given the python libraries enough information on how we want our histograms to be formatted which is why it doesn't look like a tradiitonal histogram. It seems like there is only 1 count frequency  for each value. However if that's true, not all 499 values of our list are here.  \n",
        "2.   **Difference in Range**: The SSV cells seem to have a narrower range of resting membrane potential than the Pvalb cells (with the exception of the outlier around - 83).\n",
        "3. **Concentration of Values/Average?:** There also seems to be some type of high concentration of values between -73 adn -65 in the SSV graph and between -79 and -73 on the pvalb graph. Indicating maybe, that SSV cells have a higher resting membrane potential on average, than Pvalb cells.  (is guessing values not explciitly shown ok?)\n",
        "\n"
      ],
      "metadata": {
        "id": "G8MYbk9dtQtp"
      }
    },
    {
      "cell_type": "code",
      "source": [
        "#Combining the two lists into 1\n",
        "data3 = np.squeeze(data1 + data2)\n",
        "data3\n",
        "\n",
        "#indexing the last element of data2 via indexing data3\n",
        "data3[-1]"
      ],
      "metadata": {
        "colab": {
          "base_uri": "https://localhost:8080/"
        },
        "id": "aHBFHqIaw7Sb",
        "outputId": "844a081b-556a-4111-e2a9-44238f85b922"
      },
      "execution_count": 38,
      "outputs": [
        {
          "output_type": "execute_result",
          "data": {
            "text/plain": [
              "-54.08427915"
            ]
          },
          "metadata": {},
          "execution_count": 38
        }
      ]
    },
    {
      "cell_type": "code",
      "source": [],
      "metadata": {
        "id": "wP-iOgKAxlG6"
      },
      "execution_count": null,
      "outputs": []
    }
  ]
}